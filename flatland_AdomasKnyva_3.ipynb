{
  "nbformat": 4,
  "nbformat_minor": 0,
  "metadata": {
    "colab": {
      "provenance": []
    },
    "kernelspec": {
      "name": "python3",
      "display_name": "Python 3"
    },
    "language_info": {
      "name": "python"
    },
    "accelerator": "GPU",
    "gpuClass": "standard"
  },
  "cells": [
    {
      "cell_type": "code",
      "source": [
        "import numpy as np\n",
        "from collections import Counter\n",
        "from tensorflow import keras"
      ],
      "metadata": {
        "id": "IgyszYWQNLRa"
      },
      "execution_count": 1,
      "outputs": []
    },
    {
      "cell_type": "code",
      "execution_count": 3,
      "metadata": {
        "id": "avuqLyzDS5j_"
      },
      "outputs": [],
      "source": [
        "data = np.load('flatland_train.npz')\n",
        "X = data['X']\n",
        "y = data['y']\n",
        "\n",
        "y[y != 0] -= 2\n",
        "X = X / 255.\n"
      ]
    },
    {
      "cell_type": "markdown",
      "source": [
        "Penkta kodo eilutė pakoregavo kampainių numeraciją. Šeštoji pakeičia reikšmes į paprastesnes."
      ],
      "metadata": {
        "id": "WxGBZfY1VTti"
      }
    },
    {
      "cell_type": "code",
      "source": [
        "Counter(y)"
      ],
      "metadata": {
        "colab": {
          "base_uri": "https://localhost:8080/"
        },
        "id": "k_z4NBvXU-iF",
        "outputId": "68c655ba-d8c2-4cff-89ae-769835dab0ee"
      },
      "execution_count": 4,
      "outputs": [
        {
          "output_type": "execute_result",
          "data": {
            "text/plain": [
              "Counter({2.0: 1868, 4.0: 1761, 3.0: 2137, 1.0: 2853, 0.0: 1381})"
            ]
          },
          "metadata": {},
          "execution_count": 4
        }
      ]
    },
    {
      "cell_type": "markdown",
      "source": [
        "**Dabar pradesime daryti modeli**"
      ],
      "metadata": {
        "id": "MJPhhqD1oSr9"
      }
    },
    {
      "cell_type": "markdown",
      "source": [
        "Matome pilnu duomenu matmenis, taciau reikes pasidaryti splita, kad galetumem tureti tam tikra dali duomenu treniravimui, o kita dali - testavimui."
      ],
      "metadata": {
        "id": "pHyvdCCIpUlJ"
      }
    },
    {
      "cell_type": "code",
      "source": [
        "X.shape"
      ],
      "metadata": {
        "colab": {
          "base_uri": "https://localhost:8080/"
        },
        "id": "J6xVJ8GgoiWS",
        "outputId": "4f57c46c-ee43-47d2-a509-271220d470b1"
      },
      "execution_count": 4,
      "outputs": [
        {
          "output_type": "execute_result",
          "data": {
            "text/plain": [
              "(10000, 50, 50)"
            ]
          },
          "metadata": {},
          "execution_count": 4
        }
      ]
    },
    {
      "cell_type": "code",
      "source": [
        "mask = np.random.random(len(X)) > 0.8"
      ],
      "metadata": {
        "id": "bXCVLpMspi4X"
      },
      "execution_count": 5,
      "outputs": []
    },
    {
      "cell_type": "markdown",
      "source": [
        "Uzmaskuosime train ir test objektus"
      ],
      "metadata": {
        "id": "elupETrZsH8G"
      }
    },
    {
      "cell_type": "code",
      "source": [
        "X_train = X[~mask]\n",
        "y_train = y[~mask]\n",
        "X_test = X[mask]\n",
        "y_test = y[mask]"
      ],
      "metadata": {
        "id": "ZoQHCH0Zpinc"
      },
      "execution_count": 6,
      "outputs": []
    },
    {
      "cell_type": "markdown",
      "source": [
        "Uzsirasome pirmaji modeli, galinis modelio pridejimas turi buti softmax, nes norime kazko panasesnio i tikimybes"
      ],
      "metadata": {
        "id": "CCtbDPdfsziw"
      }
    },
    {
      "cell_type": "code",
      "source": [
        "model = keras.models.Sequential()\n",
        "model.add(keras.layers.Flatten(input_shape=(50,50)))\n",
        "model.add(keras.layers.Dense(100, activation='relu'))\n",
        "model.add(keras.layers.Dense(20, activation='relu'))\n",
        "model.add(keras.layers.Dense(5, activation='softmax'))\n",
        "\n",
        "model.compile(loss='sparse_categorical_crossentropy', optimizer='SGD', metrics='accuracy')\n",
        "model.summary()"
      ],
      "metadata": {
        "colab": {
          "base_uri": "https://localhost:8080/"
        },
        "id": "nLvhl8WFpihg",
        "outputId": "3ac48a7e-e71e-49e0-e6d1-9afc84b8e16c"
      },
      "execution_count": 8,
      "outputs": [
        {
          "output_type": "stream",
          "name": "stdout",
          "text": [
            "Model: \"sequential\"\n",
            "_________________________________________________________________\n",
            " Layer (type)                Output Shape              Param #   \n",
            "=================================================================\n",
            " flatten (Flatten)           (None, 2500)              0         \n",
            "                                                                 \n",
            " dense (Dense)               (None, 100)               250100    \n",
            "                                                                 \n",
            " dense_1 (Dense)             (None, 20)                2020      \n",
            "                                                                 \n",
            " dense_2 (Dense)             (None, 5)                 105       \n",
            "                                                                 \n",
            "=================================================================\n",
            "Total params: 252,225\n",
            "Trainable params: 252,225\n",
            "Non-trainable params: 0\n",
            "_________________________________________________________________\n"
          ]
        }
      ]
    },
    {
      "cell_type": "code",
      "source": [
        "model.fit(X_train,y_train, epochs=10)"
      ],
      "metadata": {
        "id": "VnfTaQG2tPZn",
        "colab": {
          "base_uri": "https://localhost:8080/"
        },
        "outputId": "0a4caa35-9088-44c1-f626-a6772a08b9a4"
      },
      "execution_count": 9,
      "outputs": [
        {
          "output_type": "stream",
          "name": "stdout",
          "text": [
            "Epoch 1/10\n",
            "250/250 [==============================] - 3s 3ms/step - loss: 1.4939 - accuracy: 0.3668\n",
            "Epoch 2/10\n",
            "250/250 [==============================] - 1s 3ms/step - loss: 1.3323 - accuracy: 0.4731\n",
            "Epoch 3/10\n",
            "250/250 [==============================] - 1s 3ms/step - loss: 1.2398 - accuracy: 0.5041\n",
            "Epoch 4/10\n",
            "250/250 [==============================] - 1s 3ms/step - loss: 1.1885 - accuracy: 0.5149\n",
            "Epoch 5/10\n",
            "250/250 [==============================] - 1s 3ms/step - loss: 1.1450 - accuracy: 0.5291\n",
            "Epoch 6/10\n",
            "250/250 [==============================] - 1s 3ms/step - loss: 1.1093 - accuracy: 0.5365\n",
            "Epoch 7/10\n",
            "250/250 [==============================] - 1s 3ms/step - loss: 1.0654 - accuracy: 0.5600\n",
            "Epoch 8/10\n",
            "250/250 [==============================] - 1s 3ms/step - loss: 1.0254 - accuracy: 0.5859\n",
            "Epoch 9/10\n",
            "250/250 [==============================] - 1s 3ms/step - loss: 0.9903 - accuracy: 0.5989\n",
            "Epoch 10/10\n",
            "250/250 [==============================] - 1s 3ms/step - loss: 0.9493 - accuracy: 0.6180\n"
          ]
        },
        {
          "output_type": "execute_result",
          "data": {
            "text/plain": [
              "<keras.callbacks.History at 0x7fdda03b2510>"
            ]
          },
          "metadata": {},
          "execution_count": 9
        }
      ]
    },
    {
      "cell_type": "markdown",
      "source": [
        "Dabar laikas issisaugoti pirmaji modeli"
      ],
      "metadata": {
        "id": "XzfFaormUy7R"
      }
    },
    {
      "cell_type": "code",
      "source": [
        "model.save('model.h5')"
      ],
      "metadata": {
        "id": "EgrWJ6GptPW9"
      },
      "execution_count": 10,
      "outputs": []
    },
    {
      "cell_type": "markdown",
      "source": [
        "pabandysiu su kitu optimizatorium - adam"
      ],
      "metadata": {
        "id": "7dOKBCzirbOw"
      }
    },
    {
      "cell_type": "code",
      "source": [
        "model = keras.models.Sequential()\n",
        "model.add(keras.layers.Flatten(input_shape=(50,50)))\n",
        "model.add(keras.layers.Dense(100, activation='relu'))\n",
        "model.add(keras.layers.Dense(20, activation='relu'))\n",
        "model.add(keras.layers.Dense(5, activation='softmax'))\n",
        "\n",
        "model.compile(loss='sparse_categorical_crossentropy', optimizer='adam', metrics='accuracy')\n",
        "model.summary()"
      ],
      "metadata": {
        "colab": {
          "base_uri": "https://localhost:8080/"
        },
        "id": "QFhKwUikrVVu",
        "outputId": "4ae1a364-bd8a-480f-c933-cd766fdb2498"
      },
      "execution_count": 16,
      "outputs": [
        {
          "output_type": "stream",
          "name": "stdout",
          "text": [
            "Model: \"sequential_1\"\n",
            "_________________________________________________________________\n",
            " Layer (type)                Output Shape              Param #   \n",
            "=================================================================\n",
            " flatten_1 (Flatten)         (None, 2500)              0         \n",
            "                                                                 \n",
            " dense_3 (Dense)             (None, 100)               250100    \n",
            "                                                                 \n",
            " dense_4 (Dense)             (None, 20)                2020      \n",
            "                                                                 \n",
            " dense_5 (Dense)             (None, 5)                 105       \n",
            "                                                                 \n",
            "=================================================================\n",
            "Total params: 252,225\n",
            "Trainable params: 252,225\n",
            "Non-trainable params: 0\n",
            "_________________________________________________________________\n"
          ]
        }
      ]
    },
    {
      "cell_type": "code",
      "source": [
        "model.fit(X_train,y_train, epochs=10)"
      ],
      "metadata": {
        "colab": {
          "base_uri": "https://localhost:8080/"
        },
        "id": "2_Fk6ld2rhZL",
        "outputId": "1f7f1b6d-1989-4506-a08d-6d55b5176a58"
      },
      "execution_count": 17,
      "outputs": [
        {
          "output_type": "stream",
          "name": "stdout",
          "text": [
            "Epoch 1/10\n",
            "250/250 [==============================] - 1s 3ms/step - loss: 1.3510 - accuracy: 0.4177\n",
            "Epoch 2/10\n",
            "250/250 [==============================] - 1s 3ms/step - loss: 1.1221 - accuracy: 0.5234\n",
            "Epoch 3/10\n",
            "250/250 [==============================] - 1s 3ms/step - loss: 0.9645 - accuracy: 0.5979\n",
            "Epoch 4/10\n",
            "250/250 [==============================] - 1s 4ms/step - loss: 0.8345 - accuracy: 0.6557\n",
            "Epoch 5/10\n",
            "250/250 [==============================] - 1s 3ms/step - loss: 0.7464 - accuracy: 0.6888\n",
            "Epoch 6/10\n",
            "250/250 [==============================] - 1s 3ms/step - loss: 0.6809 - accuracy: 0.7210\n",
            "Epoch 7/10\n",
            "250/250 [==============================] - 1s 3ms/step - loss: 0.6298 - accuracy: 0.7461\n",
            "Epoch 8/10\n",
            "250/250 [==============================] - 1s 3ms/step - loss: 0.6202 - accuracy: 0.7509\n",
            "Epoch 9/10\n",
            "250/250 [==============================] - 1s 3ms/step - loss: 0.5435 - accuracy: 0.7832\n",
            "Epoch 10/10\n",
            "250/250 [==============================] - 1s 3ms/step - loss: 0.5077 - accuracy: 0.7950\n"
          ]
        },
        {
          "output_type": "execute_result",
          "data": {
            "text/plain": [
              "<keras.callbacks.History at 0x7fdd2a05a590>"
            ]
          },
          "metadata": {},
          "execution_count": 17
        }
      ]
    },
    {
      "cell_type": "markdown",
      "source": [
        "pabandysiu issisaugoti si modeli ir patikrinti jo tiksluma svetaineje tikrinimo"
      ],
      "metadata": {
        "id": "ZT5w1dhWru4w"
      }
    },
    {
      "cell_type": "code",
      "source": [
        "model.save('model1.h5')"
      ],
      "metadata": {
        "id": "ySqWIf62r0sp"
      },
      "execution_count": 19,
      "outputs": []
    },
    {
      "cell_type": "markdown",
      "source": [
        "sitas modelis jau duoda 5 vertinima\n"
      ],
      "metadata": {
        "id": "SZZa0jRDsnIx"
      }
    },
    {
      "cell_type": "markdown",
      "source": [
        "bandysiu toliau tweakinima"
      ],
      "metadata": {
        "id": "bz5q7cyCsr97"
      }
    },
    {
      "cell_type": "code",
      "source": [
        "model = keras.models.Sequential()\n",
        "model.add(keras.layers.Flatten(input_shape=(50,50)))\n",
        "model.add(keras.layers.Dense(200, activation='relu'))\n",
        "model.add(keras.layers.Dense(100, activation='relu'))\n",
        "model.add(keras.layers.Dense(50, activation='relu'))\n",
        "model.add(keras.layers.Dense(20, activation='relu'))\n",
        "model.add(keras.layers.Dense(5, activation='softmax'))\n",
        "\n",
        "model.compile(loss='sparse_categorical_crossentropy', optimizer='sgd', metrics='accuracy')\n",
        "model.summary()"
      ],
      "metadata": {
        "colab": {
          "base_uri": "https://localhost:8080/"
        },
        "id": "MtD0ErXrsvIz",
        "outputId": "95e738b4-1d6e-4745-bc84-b1c38f7acb53"
      },
      "execution_count": 32,
      "outputs": [
        {
          "output_type": "stream",
          "name": "stdout",
          "text": [
            "Model: \"sequential_12\"\n",
            "_________________________________________________________________\n",
            " Layer (type)                Output Shape              Param #   \n",
            "=================================================================\n",
            " flatten_12 (Flatten)        (None, 2500)              0         \n",
            "                                                                 \n",
            " dense_56 (Dense)            (None, 200)               500200    \n",
            "                                                                 \n",
            " dense_57 (Dense)            (None, 100)               20100     \n",
            "                                                                 \n",
            " dense_58 (Dense)            (None, 50)                5050      \n",
            "                                                                 \n",
            " dense_59 (Dense)            (None, 20)                1020      \n",
            "                                                                 \n",
            " dense_60 (Dense)            (None, 5)                 105       \n",
            "                                                                 \n",
            "=================================================================\n",
            "Total params: 526,475\n",
            "Trainable params: 526,475\n",
            "Non-trainable params: 0\n",
            "_________________________________________________________________\n"
          ]
        }
      ]
    },
    {
      "cell_type": "code",
      "source": [
        "model.fit(X_train,y_train, epochs=15)"
      ],
      "metadata": {
        "colab": {
          "base_uri": "https://localhost:8080/"
        },
        "id": "YfuqZVtSs6bt",
        "outputId": "48489802-9580-41ce-99f5-c39b5d3b4645"
      },
      "execution_count": 23,
      "outputs": [
        {
          "output_type": "stream",
          "name": "stdout",
          "text": [
            "Epoch 1/20\n",
            "250/250 [==============================] - 1s 4ms/step - loss: 1.6236 - accuracy: 0.1821\n",
            "Epoch 2/20\n",
            "250/250 [==============================] - 1s 4ms/step - loss: 1.6115 - accuracy: 0.1833\n",
            "Epoch 3/20\n",
            "250/250 [==============================] - 1s 3ms/step - loss: 1.6015 - accuracy: 0.1853\n",
            "Epoch 4/20\n",
            "250/250 [==============================] - 1s 4ms/step - loss: 1.5924 - accuracy: 0.1886\n",
            "Epoch 5/20\n",
            "250/250 [==============================] - 1s 4ms/step - loss: 1.5839 - accuracy: 0.1930\n",
            "Epoch 6/20\n",
            "250/250 [==============================] - 1s 3ms/step - loss: 1.5755 - accuracy: 0.1993\n",
            "Epoch 7/20\n",
            "250/250 [==============================] - 1s 3ms/step - loss: 1.5675 - accuracy: 0.2079\n",
            "Epoch 8/20\n",
            "250/250 [==============================] - 1s 3ms/step - loss: 1.5598 - accuracy: 0.2152\n",
            "Epoch 9/20\n",
            "250/250 [==============================] - 1s 3ms/step - loss: 1.5525 - accuracy: 0.2214\n",
            "Epoch 10/20\n",
            "250/250 [==============================] - 1s 3ms/step - loss: 1.5457 - accuracy: 0.2299\n",
            "Epoch 11/20\n",
            "250/250 [==============================] - 1s 3ms/step - loss: 1.5392 - accuracy: 0.2403\n",
            "Epoch 12/20\n",
            "250/250 [==============================] - 1s 3ms/step - loss: 1.5332 - accuracy: 0.2536\n",
            "Epoch 13/20\n",
            "250/250 [==============================] - 1s 4ms/step - loss: 1.5275 - accuracy: 0.2635\n",
            "Epoch 14/20\n",
            "250/250 [==============================] - 1s 3ms/step - loss: 1.5221 - accuracy: 0.2744\n",
            "Epoch 15/20\n",
            "250/250 [==============================] - 1s 3ms/step - loss: 1.5169 - accuracy: 0.2838\n",
            "Epoch 16/20\n",
            "250/250 [==============================] - 1s 3ms/step - loss: 1.5119 - accuracy: 0.2925\n",
            "Epoch 17/20\n",
            "250/250 [==============================] - 1s 3ms/step - loss: 1.5072 - accuracy: 0.3057\n",
            "Epoch 18/20\n",
            "250/250 [==============================] - 1s 3ms/step - loss: 1.5027 - accuracy: 0.3138\n",
            "Epoch 19/20\n",
            "250/250 [==============================] - 1s 3ms/step - loss: 1.4981 - accuracy: 0.3249\n",
            "Epoch 20/20\n",
            "250/250 [==============================] - 1s 3ms/step - loss: 1.4937 - accuracy: 0.3342\n"
          ]
        },
        {
          "output_type": "execute_result",
          "data": {
            "text/plain": [
              "<keras.callbacks.History at 0x7fdd2b762210>"
            ]
          },
          "metadata": {},
          "execution_count": 23
        }
      ]
    },
    {
      "cell_type": "markdown",
      "source": [
        "dabar patikrinsiu, kuris is keras modeliu geriausiai issoka savo tikslumu, paleisdamas loopa su visais internete rastais modeliais"
      ],
      "metadata": {
        "id": "QhWVsaDSuQCu"
      }
    },
    {
      "cell_type": "code",
      "source": [
        "modeliai = ['adadelta','adam','adamax','ftrl','nadam','rmsprop','sgd']\n",
        "\n",
        "model = keras.models.Sequential()\n",
        "model.add(keras.layers.Flatten(input_shape=(50,50)))\n",
        "model.add(keras.layers.Dense(200, activation='relu'))\n",
        "model.add(keras.layers.Dense(100, activation='relu'))\n",
        "model.add(keras.layers.Dense(50, activation='relu'))\n",
        "model.add(keras.layers.Dense(20, activation='relu'))\n",
        "model.add(keras.layers.Dense(5, activation='softmax'))\n",
        "\n",
        "for i in modeliai:\n",
        "  print('dabar tikrinsiu ' + i + ' modeli')\n",
        "  model.compile(loss='sparse_categorical_crossentropy', optimizer=i, metrics='accuracy')\n",
        "  model.fit(X_train,y_train, epochs=15)"
      ],
      "metadata": {
        "colab": {
          "base_uri": "https://localhost:8080/"
        },
        "id": "NpJCkID5uas1",
        "outputId": "2fb87f71-56da-403a-d148-c9a851d2ff9e"
      },
      "execution_count": 35,
      "outputs": [
        {
          "output_type": "stream",
          "name": "stdout",
          "text": [
            "dabar tikrinsiu adadelta modeli\n",
            "Epoch 1/15\n",
            "250/250 [==============================] - 1s 3ms/step - loss: 1.6774 - accuracy: 0.1872\n",
            "Epoch 2/15\n",
            "250/250 [==============================] - 1s 3ms/step - loss: 1.6470 - accuracy: 0.1968\n",
            "Epoch 3/15\n",
            "250/250 [==============================] - 1s 3ms/step - loss: 1.6282 - accuracy: 0.1993\n",
            "Epoch 4/15\n",
            "250/250 [==============================] - 1s 3ms/step - loss: 1.6140 - accuracy: 0.1995\n",
            "Epoch 5/15\n",
            "250/250 [==============================] - 1s 3ms/step - loss: 1.6027 - accuracy: 0.1998\n",
            "Epoch 6/15\n",
            "250/250 [==============================] - 1s 3ms/step - loss: 1.5930 - accuracy: 0.1990\n",
            "Epoch 7/15\n",
            "250/250 [==============================] - 1s 3ms/step - loss: 1.5845 - accuracy: 0.2002\n",
            "Epoch 8/15\n",
            "250/250 [==============================] - 1s 3ms/step - loss: 1.5770 - accuracy: 0.2024\n",
            "Epoch 9/15\n",
            "250/250 [==============================] - 1s 3ms/step - loss: 1.5699 - accuracy: 0.2048\n",
            "Epoch 10/15\n",
            "250/250 [==============================] - 1s 3ms/step - loss: 1.5634 - accuracy: 0.2067\n",
            "Epoch 11/15\n",
            "250/250 [==============================] - 1s 3ms/step - loss: 1.5575 - accuracy: 0.2079\n",
            "Epoch 12/15\n",
            "250/250 [==============================] - 1s 3ms/step - loss: 1.5520 - accuracy: 0.2096\n",
            "Epoch 13/15\n",
            "250/250 [==============================] - 1s 3ms/step - loss: 1.5469 - accuracy: 0.2136\n",
            "Epoch 14/15\n",
            "250/250 [==============================] - 1s 3ms/step - loss: 1.5421 - accuracy: 0.2162\n",
            "Epoch 15/15\n",
            "250/250 [==============================] - 1s 3ms/step - loss: 1.5377 - accuracy: 0.2196\n",
            "dabar tikrinsiu adam modeli\n",
            "Epoch 1/15\n",
            "250/250 [==============================] - 1s 3ms/step - loss: 1.3207 - accuracy: 0.4464\n",
            "Epoch 2/15\n",
            "250/250 [==============================] - 1s 3ms/step - loss: 1.0820 - accuracy: 0.5425\n",
            "Epoch 3/15\n",
            "250/250 [==============================] - 1s 3ms/step - loss: 0.8818 - accuracy: 0.6261\n",
            "Epoch 4/15\n",
            "250/250 [==============================] - 1s 4ms/step - loss: 0.7432 - accuracy: 0.6929\n",
            "Epoch 5/15\n",
            "250/250 [==============================] - 1s 3ms/step - loss: 0.6854 - accuracy: 0.7178\n",
            "Epoch 6/15\n",
            "250/250 [==============================] - 1s 3ms/step - loss: 0.6145 - accuracy: 0.7464\n",
            "Epoch 7/15\n",
            "250/250 [==============================] - 1s 3ms/step - loss: 0.5727 - accuracy: 0.7591\n",
            "Epoch 8/15\n",
            "250/250 [==============================] - 1s 3ms/step - loss: 0.5177 - accuracy: 0.7872\n",
            "Epoch 9/15\n",
            "250/250 [==============================] - 1s 3ms/step - loss: 0.5066 - accuracy: 0.7906\n",
            "Epoch 10/15\n",
            "250/250 [==============================] - 1s 3ms/step - loss: 0.4675 - accuracy: 0.8054\n",
            "Epoch 11/15\n",
            "250/250 [==============================] - 1s 3ms/step - loss: 0.4200 - accuracy: 0.8303\n",
            "Epoch 12/15\n",
            "250/250 [==============================] - 1s 3ms/step - loss: 0.4183 - accuracy: 0.8260\n",
            "Epoch 13/15\n",
            "250/250 [==============================] - 1s 3ms/step - loss: 0.3852 - accuracy: 0.8386\n",
            "Epoch 14/15\n",
            "250/250 [==============================] - 1s 3ms/step - loss: 0.3584 - accuracy: 0.8492\n",
            "Epoch 15/15\n",
            "250/250 [==============================] - 1s 3ms/step - loss: 0.3219 - accuracy: 0.8677\n",
            "dabar tikrinsiu adamax modeli\n",
            "Epoch 1/15\n",
            "250/250 [==============================] - 1s 4ms/step - loss: 0.2108 - accuracy: 0.9236\n",
            "Epoch 2/15\n",
            "250/250 [==============================] - 1s 3ms/step - loss: 0.1671 - accuracy: 0.9413\n",
            "Epoch 3/15\n",
            "250/250 [==============================] - 1s 3ms/step - loss: 0.1501 - accuracy: 0.9499\n",
            "Epoch 4/15\n",
            "250/250 [==============================] - 1s 4ms/step - loss: 0.1363 - accuracy: 0.9555\n",
            "Epoch 5/15\n",
            "250/250 [==============================] - 1s 4ms/step - loss: 0.1207 - accuracy: 0.9598\n",
            "Epoch 6/15\n",
            "250/250 [==============================] - 1s 3ms/step - loss: 0.1117 - accuracy: 0.9644\n",
            "Epoch 7/15\n",
            "250/250 [==============================] - 1s 3ms/step - loss: 0.1049 - accuracy: 0.9657\n",
            "Epoch 8/15\n",
            "250/250 [==============================] - 1s 3ms/step - loss: 0.0954 - accuracy: 0.9701\n",
            "Epoch 9/15\n",
            "250/250 [==============================] - 1s 4ms/step - loss: 0.0863 - accuracy: 0.9721\n",
            "Epoch 10/15\n",
            "250/250 [==============================] - 1s 3ms/step - loss: 0.0850 - accuracy: 0.9731\n",
            "Epoch 11/15\n",
            "250/250 [==============================] - 1s 4ms/step - loss: 0.0744 - accuracy: 0.9788\n",
            "Epoch 12/15\n",
            "250/250 [==============================] - 1s 3ms/step - loss: 0.0716 - accuracy: 0.9774\n",
            "Epoch 13/15\n",
            "250/250 [==============================] - 1s 3ms/step - loss: 0.0645 - accuracy: 0.9799\n",
            "Epoch 14/15\n",
            "250/250 [==============================] - 1s 3ms/step - loss: 0.0572 - accuracy: 0.9846\n",
            "Epoch 15/15\n",
            "250/250 [==============================] - 1s 3ms/step - loss: 0.0560 - accuracy: 0.9823\n",
            "dabar tikrinsiu ftrl modeli\n",
            "Epoch 1/15\n",
            "250/250 [==============================] - 2s 5ms/step - loss: 1.6012 - accuracy: 0.2865\n",
            "Epoch 2/15\n",
            "250/250 [==============================] - 1s 4ms/step - loss: 1.6057 - accuracy: 0.2844\n",
            "Epoch 3/15\n",
            "250/250 [==============================] - 1s 4ms/step - loss: 1.6046 - accuracy: 0.2844\n",
            "Epoch 4/15\n",
            "250/250 [==============================] - 1s 4ms/step - loss: 1.6037 - accuracy: 0.2844\n",
            "Epoch 5/15\n",
            "250/250 [==============================] - 1s 4ms/step - loss: 1.6030 - accuracy: 0.2844\n",
            "Epoch 6/15\n",
            "250/250 [==============================] - 1s 4ms/step - loss: 1.6023 - accuracy: 0.2844\n",
            "Epoch 7/15\n",
            "250/250 [==============================] - 1s 4ms/step - loss: 1.6018 - accuracy: 0.2844\n",
            "Epoch 8/15\n",
            "250/250 [==============================] - 1s 4ms/step - loss: 1.6012 - accuracy: 0.2844\n",
            "Epoch 9/15\n",
            "250/250 [==============================] - 1s 4ms/step - loss: 1.6008 - accuracy: 0.2844\n",
            "Epoch 10/15\n",
            "250/250 [==============================] - 1s 4ms/step - loss: 1.6003 - accuracy: 0.2844\n",
            "Epoch 11/15\n",
            "250/250 [==============================] - 1s 4ms/step - loss: 1.5999 - accuracy: 0.2844\n",
            "Epoch 12/15\n",
            "250/250 [==============================] - 1s 4ms/step - loss: 1.5995 - accuracy: 0.2844\n",
            "Epoch 13/15\n",
            "250/250 [==============================] - 1s 4ms/step - loss: 1.5991 - accuracy: 0.2844\n",
            "Epoch 14/15\n",
            "250/250 [==============================] - 1s 4ms/step - loss: 1.5988 - accuracy: 0.2844\n",
            "Epoch 15/15\n",
            "250/250 [==============================] - 1s 4ms/step - loss: 1.5985 - accuracy: 0.2844\n",
            "dabar tikrinsiu nadam modeli\n",
            "Epoch 1/15\n",
            "250/250 [==============================] - 2s 5ms/step - loss: 1.4810 - accuracy: 0.3102\n",
            "Epoch 2/15\n",
            "250/250 [==============================] - 1s 5ms/step - loss: 1.3359 - accuracy: 0.4472\n",
            "Epoch 3/15\n",
            "250/250 [==============================] - 1s 5ms/step - loss: 1.2428 - accuracy: 0.4839\n",
            "Epoch 4/15\n",
            "250/250 [==============================] - 1s 5ms/step - loss: 1.1602 - accuracy: 0.5258\n",
            "Epoch 5/15\n",
            "250/250 [==============================] - 1s 5ms/step - loss: 1.0767 - accuracy: 0.5717\n",
            "Epoch 6/15\n",
            "250/250 [==============================] - 1s 5ms/step - loss: 1.0068 - accuracy: 0.6067\n",
            "Epoch 7/15\n",
            "250/250 [==============================] - 1s 5ms/step - loss: 0.9757 - accuracy: 0.6325\n",
            "Epoch 8/15\n",
            "250/250 [==============================] - 1s 5ms/step - loss: 0.9260 - accuracy: 0.6414\n",
            "Epoch 9/15\n",
            "250/250 [==============================] - 1s 6ms/step - loss: 0.8604 - accuracy: 0.6818\n",
            "Epoch 10/15\n",
            "250/250 [==============================] - 2s 7ms/step - loss: 0.8342 - accuracy: 0.6883\n",
            "Epoch 11/15\n",
            "250/250 [==============================] - 2s 6ms/step - loss: 0.7738 - accuracy: 0.7195\n",
            "Epoch 12/15\n",
            "250/250 [==============================] - 1s 5ms/step - loss: 0.7606 - accuracy: 0.7217\n",
            "Epoch 13/15\n",
            "250/250 [==============================] - 1s 5ms/step - loss: 0.7372 - accuracy: 0.7283\n",
            "Epoch 14/15\n",
            "250/250 [==============================] - 1s 5ms/step - loss: 0.6854 - accuracy: 0.7416\n",
            "Epoch 15/15\n",
            "250/250 [==============================] - 1s 5ms/step - loss: 0.6720 - accuracy: 0.7453\n",
            "dabar tikrinsiu rmsprop modeli\n",
            "Epoch 1/15\n",
            "250/250 [==============================] - 2s 4ms/step - loss: 0.6190 - accuracy: 0.7651\n",
            "Epoch 2/15\n",
            "250/250 [==============================] - 1s 4ms/step - loss: 0.5880 - accuracy: 0.7755\n",
            "Epoch 3/15\n",
            "250/250 [==============================] - 1s 4ms/step - loss: 0.5785 - accuracy: 0.7783\n",
            "Epoch 4/15\n",
            "250/250 [==============================] - 1s 4ms/step - loss: 0.5599 - accuracy: 0.7809\n",
            "Epoch 5/15\n",
            "250/250 [==============================] - 1s 4ms/step - loss: 0.5325 - accuracy: 0.7918\n",
            "Epoch 6/15\n",
            "250/250 [==============================] - 1s 4ms/step - loss: 0.5358 - accuracy: 0.7942\n",
            "Epoch 7/15\n",
            "250/250 [==============================] - 1s 4ms/step - loss: 0.5090 - accuracy: 0.7988\n",
            "Epoch 8/15\n",
            "250/250 [==============================] - 1s 4ms/step - loss: 0.4943 - accuracy: 0.8046\n",
            "Epoch 9/15\n",
            "250/250 [==============================] - 1s 4ms/step - loss: 0.4806 - accuracy: 0.8105\n",
            "Epoch 10/15\n",
            "250/250 [==============================] - 1s 4ms/step - loss: 0.4777 - accuracy: 0.8137\n",
            "Epoch 11/15\n",
            "250/250 [==============================] - 1s 4ms/step - loss: 0.4601 - accuracy: 0.8173\n",
            "Epoch 12/15\n",
            "250/250 [==============================] - 1s 4ms/step - loss: 0.4592 - accuracy: 0.8177\n",
            "Epoch 13/15\n",
            "250/250 [==============================] - 1s 4ms/step - loss: 0.4533 - accuracy: 0.8214\n",
            "Epoch 14/15\n",
            "250/250 [==============================] - 1s 4ms/step - loss: 0.4360 - accuracy: 0.8300\n",
            "Epoch 15/15\n",
            "250/250 [==============================] - 1s 4ms/step - loss: 0.4357 - accuracy: 0.8305\n",
            "dabar tikrinsiu sgd modeli\n",
            "Epoch 1/15\n",
            "250/250 [==============================] - 1s 3ms/step - loss: 0.3456 - accuracy: 0.8632\n",
            "Epoch 2/15\n",
            "250/250 [==============================] - 1s 3ms/step - loss: 0.3207 - accuracy: 0.8736\n",
            "Epoch 3/15\n",
            "250/250 [==============================] - 1s 3ms/step - loss: 0.3122 - accuracy: 0.8819\n",
            "Epoch 4/15\n",
            "250/250 [==============================] - 1s 3ms/step - loss: 0.3089 - accuracy: 0.8827\n",
            "Epoch 5/15\n",
            "250/250 [==============================] - 1s 3ms/step - loss: 0.3032 - accuracy: 0.8837\n",
            "Epoch 6/15\n",
            "250/250 [==============================] - 1s 3ms/step - loss: 0.3065 - accuracy: 0.8798\n",
            "Epoch 7/15\n",
            "250/250 [==============================] - 1s 3ms/step - loss: 0.2962 - accuracy: 0.8869\n",
            "Epoch 8/15\n",
            "250/250 [==============================] - 1s 3ms/step - loss: 0.2909 - accuracy: 0.8868\n",
            "Epoch 9/15\n",
            "250/250 [==============================] - 1s 3ms/step - loss: 0.3001 - accuracy: 0.8828\n",
            "Epoch 10/15\n",
            "250/250 [==============================] - 1s 3ms/step - loss: 0.2841 - accuracy: 0.8901\n",
            "Epoch 11/15\n",
            "250/250 [==============================] - 1s 3ms/step - loss: 0.2785 - accuracy: 0.8928\n",
            "Epoch 12/15\n",
            "250/250 [==============================] - 1s 3ms/step - loss: 0.2760 - accuracy: 0.8938\n",
            "Epoch 13/15\n",
            "250/250 [==============================] - 1s 3ms/step - loss: 0.2740 - accuracy: 0.8942\n",
            "Epoch 14/15\n",
            "250/250 [==============================] - 1s 4ms/step - loss: 0.2749 - accuracy: 0.8928\n",
            "Epoch 15/15\n",
            "250/250 [==============================] - 1s 3ms/step - loss: 0.5924 - accuracy: 0.7912\n"
          ]
        }
      ]
    },
    {
      "cell_type": "markdown",
      "source": [
        "pasidarius testa su keliais galimais modeliais, gaunu modeliu leaderboarda:\n",
        "1. adamax\n",
        "2. adam/sgd\n",
        "3. rmsdrop"
      ],
      "metadata": {
        "id": "2Iv2nye1wV1U"
      }
    },
    {
      "cell_type": "markdown",
      "source": [
        "dabar tada reiskia bandysiu padaryti submission modeli su adamax, gal gerai atitiks kriterijus"
      ],
      "metadata": {
        "id": "IOkILgc6wxjy"
      }
    },
    {
      "cell_type": "code",
      "source": [
        "model = keras.models.Sequential()\n",
        "model.add(keras.layers.Flatten(input_shape=(50,50)))\n",
        "model.add(keras.layers.Dense(200, activation='relu'))\n",
        "model.add(keras.layers.Dense(100, activation='relu'))\n",
        "model.add(keras.layers.Dense(50, activation='relu'))\n",
        "model.add(keras.layers.Dense(20, activation='relu'))\n",
        "model.add(keras.layers.Dense(5, activation='softmax'))\n",
        "\n",
        "model.compile(loss='sparse_categorical_crossentropy', optimizer='adamax', metrics='accuracy')\n",
        "model.summary()"
      ],
      "metadata": {
        "colab": {
          "base_uri": "https://localhost:8080/"
        },
        "id": "4T09CGJGw4Yc",
        "outputId": "84fa9958-a928-4267-cec0-e3fbb3e5087f"
      },
      "execution_count": 36,
      "outputs": [
        {
          "output_type": "stream",
          "name": "stdout",
          "text": [
            "Model: \"sequential_16\"\n",
            "_________________________________________________________________\n",
            " Layer (type)                Output Shape              Param #   \n",
            "=================================================================\n",
            " flatten_16 (Flatten)        (None, 2500)              0         \n",
            "                                                                 \n",
            " dense_76 (Dense)            (None, 200)               500200    \n",
            "                                                                 \n",
            " dense_77 (Dense)            (None, 100)               20100     \n",
            "                                                                 \n",
            " dense_78 (Dense)            (None, 50)                5050      \n",
            "                                                                 \n",
            " dense_79 (Dense)            (None, 20)                1020      \n",
            "                                                                 \n",
            " dense_80 (Dense)            (None, 5)                 105       \n",
            "                                                                 \n",
            "=================================================================\n",
            "Total params: 526,475\n",
            "Trainable params: 526,475\n",
            "Non-trainable params: 0\n",
            "_________________________________________________________________\n"
          ]
        }
      ]
    },
    {
      "cell_type": "code",
      "source": [
        "model.fit(X_train,y_train, epochs=15)"
      ],
      "metadata": {
        "colab": {
          "base_uri": "https://localhost:8080/"
        },
        "id": "IX-RMSwHxANO",
        "outputId": "b97c3e51-8544-4f2a-8df2-e940e691f194"
      },
      "execution_count": 38,
      "outputs": [
        {
          "output_type": "stream",
          "name": "stdout",
          "text": [
            "Epoch 1/15\n",
            "250/250 [==============================] - 1s 4ms/step - loss: 0.2715 - accuracy: 0.8991\n",
            "Epoch 2/15\n",
            "250/250 [==============================] - 1s 4ms/step - loss: 0.2594 - accuracy: 0.9029\n",
            "Epoch 3/15\n",
            "250/250 [==============================] - 1s 4ms/step - loss: 0.2396 - accuracy: 0.9095\n",
            "Epoch 4/15\n",
            "250/250 [==============================] - 1s 3ms/step - loss: 0.2262 - accuracy: 0.9172\n",
            "Epoch 5/15\n",
            "250/250 [==============================] - 1s 3ms/step - loss: 0.2169 - accuracy: 0.9157\n",
            "Epoch 6/15\n",
            "250/250 [==============================] - 1s 4ms/step - loss: 0.2008 - accuracy: 0.9242\n",
            "Epoch 7/15\n",
            "250/250 [==============================] - 1s 4ms/step - loss: 0.1956 - accuracy: 0.9291\n",
            "Epoch 8/15\n",
            "250/250 [==============================] - 1s 3ms/step - loss: 0.1763 - accuracy: 0.9390\n",
            "Epoch 9/15\n",
            "250/250 [==============================] - 1s 3ms/step - loss: 0.1645 - accuracy: 0.9443\n",
            "Epoch 10/15\n",
            "250/250 [==============================] - 1s 4ms/step - loss: 0.1506 - accuracy: 0.9464\n",
            "Epoch 11/15\n",
            "250/250 [==============================] - 1s 3ms/step - loss: 0.1464 - accuracy: 0.9501\n",
            "Epoch 12/15\n",
            "250/250 [==============================] - 1s 3ms/step - loss: 0.1262 - accuracy: 0.9585\n",
            "Epoch 13/15\n",
            "250/250 [==============================] - 1s 4ms/step - loss: 0.1318 - accuracy: 0.9541\n",
            "Epoch 14/15\n",
            "250/250 [==============================] - 1s 3ms/step - loss: 0.1169 - accuracy: 0.9611\n",
            "Epoch 15/15\n",
            "250/250 [==============================] - 1s 4ms/step - loss: 0.1185 - accuracy: 0.9578\n"
          ]
        },
        {
          "output_type": "execute_result",
          "data": {
            "text/plain": [
              "<keras.callbacks.History at 0x7fdd0046e850>"
            ]
          },
          "metadata": {},
          "execution_count": 38
        }
      ]
    },
    {
      "cell_type": "code",
      "source": [
        "model.save('model2.h5')"
      ],
      "metadata": {
        "id": "458EyfXUxM4C"
      },
      "execution_count": 39,
      "outputs": []
    },
    {
      "cell_type": "markdown",
      "source": [
        "na va, patikrinus modeli svetaineje jau gaunasi 7 ivertis, nes test set virs 80 proc"
      ],
      "metadata": {
        "id": "96dM0CSBx5wn"
      }
    },
    {
      "cell_type": "markdown",
      "source": [
        "**Tolesni bandymai(naudosiuosi paskaitu medziaga)**"
      ],
      "metadata": {
        "id": "bOqN4lTh34g4"
      }
    },
    {
      "cell_type": "markdown",
      "source": [
        "dabar bus bandymas naudojantis medziaga, kuri yra CNN-Implemetation skyrelyje(bandysiu naudoti Conv2D, ne tik Dense)"
      ],
      "metadata": {
        "id": "3y1yQur_3_0y"
      }
    },
    {
      "cell_type": "code",
      "source": [
        "X_train = X_train.reshape(X_train.shape[0], 50, 50, 1)\n",
        "X_test = X_test.reshape(X_test.shape[0], 50, 50, 1)"
      ],
      "metadata": {
        "id": "khFNoxTDyBEt"
      },
      "execution_count": 7,
      "outputs": []
    },
    {
      "cell_type": "code",
      "source": [
        "model = keras.models.Sequential()\n",
        "model.add(keras.layers.Conv2D(50, kernel_size=(20, 20), activation='relu', input_shape=[50, 50, 1]))\n",
        "model.add(keras.layers.Conv2D(50, kernel_size=(10, 10), activation='relu'))\n",
        "#model.add(keras.layers.Conv2D(50, kernel_size=(10, 10), activation='relu'))\n",
        "#model.add(keras.layers.Conv2D(50, kernel_size=(5, 5), activation='relu'))\n",
        "model.add(keras.layers.Flatten())\n",
        "#model.add(keras.layers.Dense(100, activation=\"relu\"))\n",
        "model.add(keras.layers.Dense(20, activation=\"relu\"))\n",
        "#model.add(keras.layers.Dense(20, activation=\"relu\"))\n",
        "model.add(keras.layers.Dense(10, activation=\"relu\"))\n",
        "model.add(keras.layers.Dense(5, activation=\"softmax\"))\n",
        "model.compile(loss=\"sparse_categorical_crossentropy\",\n",
        "              optimizer=\"adamax\",\n",
        "              metrics=[\"accuracy\"])\n",
        "model.summary()"
      ],
      "metadata": {
        "colab": {
          "base_uri": "https://localhost:8080/"
        },
        "id": "ebe7NP9A67hY",
        "outputId": "98bc1efc-f18c-4e75-ef92-9ea13a675780"
      },
      "execution_count": 22,
      "outputs": [
        {
          "output_type": "stream",
          "name": "stdout",
          "text": [
            "Model: \"sequential_7\"\n",
            "_________________________________________________________________\n",
            " Layer (type)                Output Shape              Param #   \n",
            "=================================================================\n",
            " conv2d_21 (Conv2D)          (None, 31, 31, 50)        20050     \n",
            "                                                                 \n",
            " conv2d_22 (Conv2D)          (None, 22, 22, 50)        250050    \n",
            "                                                                 \n",
            " flatten_7 (Flatten)         (None, 24200)             0         \n",
            "                                                                 \n",
            " dense_26 (Dense)            (None, 20)                484020    \n",
            "                                                                 \n",
            " dense_27 (Dense)            (None, 10)                210       \n",
            "                                                                 \n",
            " dense_28 (Dense)            (None, 5)                 55        \n",
            "                                                                 \n",
            "=================================================================\n",
            "Total params: 754,385\n",
            "Trainable params: 754,385\n",
            "Non-trainable params: 0\n",
            "_________________________________________________________________\n"
          ]
        }
      ]
    },
    {
      "cell_type": "code",
      "source": [
        "model.fit(X_train,y_train, epochs=6)"
      ],
      "metadata": {
        "colab": {
          "base_uri": "https://localhost:8080/"
        },
        "id": "oHH0AdQv7ham",
        "outputId": "f8f83f89-cdf9-4bfb-bddf-5c61fb1f87a0"
      },
      "execution_count": 23,
      "outputs": [
        {
          "output_type": "stream",
          "name": "stdout",
          "text": [
            "Epoch 1/6\n",
            "250/250 [==============================] - 2s 7ms/step - loss: 1.4853 - accuracy: 0.3431\n",
            "Epoch 2/6\n",
            "250/250 [==============================] - 2s 6ms/step - loss: 0.8260 - accuracy: 0.6673\n",
            "Epoch 3/6\n",
            "250/250 [==============================] - 2s 6ms/step - loss: 0.4591 - accuracy: 0.8417\n",
            "Epoch 4/6\n",
            "250/250 [==============================] - 2s 6ms/step - loss: 0.2997 - accuracy: 0.9299\n",
            "Epoch 5/6\n",
            "250/250 [==============================] - 2s 6ms/step - loss: 0.2188 - accuracy: 0.9640\n",
            "Epoch 6/6\n",
            "250/250 [==============================] - 2s 6ms/step - loss: 0.1768 - accuracy: 0.9753\n"
          ]
        },
        {
          "output_type": "execute_result",
          "data": {
            "text/plain": [
              "<keras.callbacks.History at 0x7fbae0a2eb10>"
            ]
          },
          "metadata": {},
          "execution_count": 23
        }
      ]
    },
    {
      "cell_type": "code",
      "source": [
        "model.save('model15.h5')"
      ],
      "metadata": {
        "id": "Rs2UwZdj8qrW"
      },
      "execution_count": 24,
      "outputs": []
    },
    {
      "cell_type": "markdown",
      "source": [
        "deja, modelis su vienu sluoksniu Conv2D yra prastesnis norint sutilpti i 25MB, taciau turint labai daug atminties(apie 120MB) gaunamas labai stiprus modelis"
      ],
      "metadata": {
        "id": "81DIlo97GFs3"
      }
    },
    {
      "cell_type": "markdown",
      "source": [
        "pataisymas: siek tiek padirbejus su sluoksniais galima gauti labai gera modeli, kuris butu ne toks didelis. Sis modelis jau duoda tiksluma, kuris uztikrina desimtuka :D "
      ],
      "metadata": {
        "id": "-LCIyCElysPr"
      }
    },
    {
      "cell_type": "code",
      "source": [],
      "metadata": {
        "id": "2Ynzj3hRGUFj"
      },
      "execution_count": null,
      "outputs": []
    },
    {
      "cell_type": "code",
      "source": [],
      "metadata": {
        "id": "EmRPxVoPGUYP"
      },
      "execution_count": null,
      "outputs": []
    }
  ]
}