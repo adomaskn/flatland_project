{
  "nbformat": 4,
  "nbformat_minor": 0,
  "metadata": {
    "colab": {
      "provenance": []
    },
    "kernelspec": {
      "name": "python3",
      "display_name": "Python 3"
    },
    "language_info": {
      "name": "python"
    },
    "accelerator": "GPU",
    "gpuClass": "standard"
  },
  "cells": [
    {
      "cell_type": "code",
      "source": [
        "import numpy as np\n",
        "from collections import Counter\n",
        "from tensorflow import keras"
      ],
      "metadata": {
        "id": "IgyszYWQNLRa"
      },
      "execution_count": 1,
      "outputs": []
    },
    {
      "cell_type": "code",
      "execution_count": 3,
      "metadata": {
        "id": "avuqLyzDS5j_"
      },
      "outputs": [],
      "source": [
        "data = np.load('flatland_train.npz')\n",
        "X = data['X']\n",
        "y = data['y']\n",
        "\n",
        "y[y != 0] -= 2    # Correct labels so that triangle is mapped to class 1\n",
        "X = X / 255.      # Scale down to range [0, 1]\n",
        "\n",
        "# Construct and train your model (don't forget train/test split and other tricks)\n",
        "#model = ...\n",
        "\n",
        "# Save the model and upload to git\n",
        "#model.save('model.h5')"
      ]
    },
    {
      "cell_type": "markdown",
      "source": [
        "Penkta kodo eilutė pakoregavo kampainių numeraciją. Šeštoji pakeičia reikšmes į paprastesnes."
      ],
      "metadata": {
        "id": "WxGBZfY1VTti"
      }
    },
    {
      "cell_type": "code",
      "source": [
        "Counter(y)"
      ],
      "metadata": {
        "colab": {
          "base_uri": "https://localhost:8080/"
        },
        "id": "k_z4NBvXU-iF",
        "outputId": "989398ec-fded-49ad-def3-9fd825b463a3"
      },
      "execution_count": 4,
      "outputs": [
        {
          "output_type": "execute_result",
          "data": {
            "text/plain": [
              "Counter({2.0: 1868, 4.0: 1761, 3.0: 2137, 1.0: 2853, 0.0: 1381})"
            ]
          },
          "metadata": {},
          "execution_count": 4
        }
      ]
    },
    {
      "cell_type": "markdown",
      "source": [
        "**Dabar pradesime daryti modeli**"
      ],
      "metadata": {
        "id": "MJPhhqD1oSr9"
      }
    },
    {
      "cell_type": "markdown",
      "source": [
        "Matome pilnu duomenu matmenis, taciau reikes pasidaryti splita, kad galetumem tureti tam tikra dali duomenu treniravimui, o kita dali - testavimui."
      ],
      "metadata": {
        "id": "pHyvdCCIpUlJ"
      }
    },
    {
      "cell_type": "code",
      "source": [
        "X.shape"
      ],
      "metadata": {
        "colab": {
          "base_uri": "https://localhost:8080/"
        },
        "id": "J6xVJ8GgoiWS",
        "outputId": "ccc5b644-f6d3-46f6-ee31-e86cb76f15dc"
      },
      "execution_count": 5,
      "outputs": [
        {
          "output_type": "execute_result",
          "data": {
            "text/plain": [
              "(10000, 50, 50)"
            ]
          },
          "metadata": {},
          "execution_count": 5
        }
      ]
    },
    {
      "cell_type": "code",
      "source": [
        "mask = np.random.random(len(X)) > 0.8"
      ],
      "metadata": {
        "id": "bXCVLpMspi4X"
      },
      "execution_count": 6,
      "outputs": []
    },
    {
      "cell_type": "markdown",
      "source": [
        "Uzmaskuosime train ir test objektus"
      ],
      "metadata": {
        "id": "elupETrZsH8G"
      }
    },
    {
      "cell_type": "code",
      "source": [
        "X_train = X[~mask]\n",
        "y_train = y[~mask]\n",
        "X_test = X[mask]\n",
        "y_test = y[mask]"
      ],
      "metadata": {
        "id": "ZoQHCH0Zpinc"
      },
      "execution_count": 7,
      "outputs": []
    },
    {
      "cell_type": "markdown",
      "source": [
        "Uzsirasome pirmaji modeli, galinis modelio pridejimas turi buti softmax, nes norime kazko panasesnio i tikimybes"
      ],
      "metadata": {
        "id": "CCtbDPdfsziw"
      }
    },
    {
      "cell_type": "code",
      "source": [
        "model = keras.models.Sequential()\n",
        "model.add(keras.layers.Flatten(input_shape=(50,50)))\n",
        "model.add(keras.layers.Dense(100, activation='relu'))\n",
        "model.add(keras.layers.Dense(20, activation='relu'))\n",
        "model.add(keras.layers.Dense(5, activation='softmax'))\n",
        "\n",
        "model.compile(loss='sparse_categorical_crossentropy', optimizer='SGD', metrics='accuracy')\n",
        "model.summary()"
      ],
      "metadata": {
        "colab": {
          "base_uri": "https://localhost:8080/"
        },
        "id": "nLvhl8WFpihg",
        "outputId": "3ac48a7e-e71e-49e0-e6d1-9afc84b8e16c"
      },
      "execution_count": 8,
      "outputs": [
        {
          "output_type": "stream",
          "name": "stdout",
          "text": [
            "Model: \"sequential\"\n",
            "_________________________________________________________________\n",
            " Layer (type)                Output Shape              Param #   \n",
            "=================================================================\n",
            " flatten (Flatten)           (None, 2500)              0         \n",
            "                                                                 \n",
            " dense (Dense)               (None, 100)               250100    \n",
            "                                                                 \n",
            " dense_1 (Dense)             (None, 20)                2020      \n",
            "                                                                 \n",
            " dense_2 (Dense)             (None, 5)                 105       \n",
            "                                                                 \n",
            "=================================================================\n",
            "Total params: 252,225\n",
            "Trainable params: 252,225\n",
            "Non-trainable params: 0\n",
            "_________________________________________________________________\n"
          ]
        }
      ]
    },
    {
      "cell_type": "code",
      "source": [
        "model.fit(X_train,y_train, epochs=10)"
      ],
      "metadata": {
        "id": "VnfTaQG2tPZn",
        "colab": {
          "base_uri": "https://localhost:8080/"
        },
        "outputId": "0a4caa35-9088-44c1-f626-a6772a08b9a4"
      },
      "execution_count": 9,
      "outputs": [
        {
          "output_type": "stream",
          "name": "stdout",
          "text": [
            "Epoch 1/10\n",
            "250/250 [==============================] - 3s 3ms/step - loss: 1.4939 - accuracy: 0.3668\n",
            "Epoch 2/10\n",
            "250/250 [==============================] - 1s 3ms/step - loss: 1.3323 - accuracy: 0.4731\n",
            "Epoch 3/10\n",
            "250/250 [==============================] - 1s 3ms/step - loss: 1.2398 - accuracy: 0.5041\n",
            "Epoch 4/10\n",
            "250/250 [==============================] - 1s 3ms/step - loss: 1.1885 - accuracy: 0.5149\n",
            "Epoch 5/10\n",
            "250/250 [==============================] - 1s 3ms/step - loss: 1.1450 - accuracy: 0.5291\n",
            "Epoch 6/10\n",
            "250/250 [==============================] - 1s 3ms/step - loss: 1.1093 - accuracy: 0.5365\n",
            "Epoch 7/10\n",
            "250/250 [==============================] - 1s 3ms/step - loss: 1.0654 - accuracy: 0.5600\n",
            "Epoch 8/10\n",
            "250/250 [==============================] - 1s 3ms/step - loss: 1.0254 - accuracy: 0.5859\n",
            "Epoch 9/10\n",
            "250/250 [==============================] - 1s 3ms/step - loss: 0.9903 - accuracy: 0.5989\n",
            "Epoch 10/10\n",
            "250/250 [==============================] - 1s 3ms/step - loss: 0.9493 - accuracy: 0.6180\n"
          ]
        },
        {
          "output_type": "execute_result",
          "data": {
            "text/plain": [
              "<keras.callbacks.History at 0x7fdda03b2510>"
            ]
          },
          "metadata": {},
          "execution_count": 9
        }
      ]
    },
    {
      "cell_type": "markdown",
      "source": [
        "Dabar laikas issisaugoti modeli"
      ],
      "metadata": {
        "id": "XzfFaormUy7R"
      }
    },
    {
      "cell_type": "code",
      "source": [
        "model.save('model.h5')"
      ],
      "metadata": {
        "id": "EgrWJ6GptPW9"
      },
      "execution_count": 10,
      "outputs": []
    },
    {
      "cell_type": "markdown",
      "source": [],
      "metadata": {
        "id": "LcXVA98zVi8m"
      }
    },
    {
      "cell_type": "code",
      "source": [],
      "metadata": {
        "id": "zFfX0gXytPUS"
      },
      "execution_count": null,
      "outputs": []
    },
    {
      "cell_type": "code",
      "source": [],
      "metadata": {
        "id": "EbwNLUmdpie_"
      },
      "execution_count": null,
      "outputs": []
    }
  ]
}